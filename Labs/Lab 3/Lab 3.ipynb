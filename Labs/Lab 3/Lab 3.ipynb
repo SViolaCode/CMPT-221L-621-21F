{
 "cells": [
  {
   "cell_type": "markdown",
   "source": [
    "# Lab Three\n",
    "---\n",
    "\n",
    "Ok for this lab we're going to reiterate a lot of the things that we went over in class.\n",
    "\n",
    "Our Goals are:\n",
    "- Understanding Variable Types\n",
    "- Defining Variables\n",
    "- Using Conditionals\n",
    "- Using Loops\n",
    "- Creating Objects\n",
    "- Writing a function\n"
   ],
   "metadata": {}
  },
  {
   "cell_type": "markdown",
   "source": [
    "## What's the difference between Null and undefined?"
   ],
   "metadata": {}
  },
  {
   "cell_type": "markdown",
   "source": [
    "Null has no value on purpose, whereas undefined is declared but not defined. Null is also the type object, and undefined has an undefined type."
   ],
   "metadata": {}
  },
  {
   "cell_type": "markdown",
   "source": [
    "## List the 3 Variable Types and Use Them!"
   ],
   "metadata": {}
  },
  {
   "cell_type": "markdown",
   "source": [
    "The three variable types used in JavaScript are var, let and const."
   ],
   "metadata": {}
  },
  {
   "cell_type": "code",
   "execution_count": null,
   "source": [
    "var myName = \"Viola\";\r\n",
    "console.log(myName);\r\n",
    "\r\n",
    "let myName = \"Viola\";\r\n",
    "console.log(myName);\r\n",
    "\r\n",
    "const myNameConst = \"Viola\";\r\n",
    "console.log(myNameConst);"
   ],
   "outputs": [],
   "metadata": {}
  },
  {
   "cell_type": "markdown",
   "source": [
    "## Use an If/Else If/Else Statement and a Switch Case statement"
   ],
   "metadata": {}
  },
  {
   "cell_type": "code",
   "execution_count": null,
   "source": [
    "var breakfast = \"FrenchToast\";\r\n",
    "switch (breakfast) {\r\n",
    "    case \"Pancakes\":\r\n",
    "        console.log(\"Pancakes are a good choice\");\r\n",
    "        break;\r\n",
    "    case \"Waffles\":\r\n",
    "        console.log(\"This is a very weak opinion.\");\r\n",
    "        break;\r\n",
    "    case \"FrenchToast\":\r\n",
    "        console.log(\"Finally, some culture!\");\r\n",
    "        break;\r\n",
    "    default:\r\n",
    "        console.log(\"You don't like breakfast foods?!\");\r\n",
    "        break;\r\n",
    "}"
   ],
   "outputs": [],
   "metadata": {}
  },
  {
   "cell_type": "code",
   "execution_count": null,
   "source": [
    "if (1 == 0){\r\n",
    "    console.log(\"What?\");\r\n",
    "} else if (1 == 1){\r\n",
    "    console.log(\"True!\")\r\n",
    "}"
   ],
   "outputs": [],
   "metadata": {}
  },
  {
   "cell_type": "markdown",
   "source": [
    "## Use a For and a While Loop"
   ],
   "metadata": {}
  },
  {
   "cell_type": "code",
   "execution_count": null,
   "source": [
    "var nums = [1,2,3,4,5]\r\n",
    "while (nums.length != 0) {\r\n",
    "    console.log(stack.pop());\r\n",
    "}"
   ],
   "outputs": [],
   "metadata": {}
  },
  {
   "cell_type": "code",
   "execution_count": null,
   "source": [
    "for (var x = 0; x < 10; x++) {\r\n",
    "    console.log(x);\r\n",
    "}"
   ],
   "outputs": [],
   "metadata": {}
  },
  {
   "cell_type": "markdown",
   "source": [
    "## Make an object!"
   ],
   "metadata": {}
  },
  {
   "cell_type": "code",
   "execution_count": null,
   "source": [
    "const me = {\r\n",
    "    firstName : \"Sam\",\r\n",
    "    lastName  : \"Viola\",\r\n",
    "    age       : 19,\r\n",
    "};"
   ],
   "outputs": [],
   "metadata": {}
  },
  {
   "cell_type": "markdown",
   "source": [
    "## Make a function, It can do anything!"
   ],
   "metadata": {}
  },
  {
   "cell_type": "code",
   "execution_count": null,
   "source": [
    "function labThree() {\r\n",
    "    console.log(\"anything\");\r\n",
    "}\r\n",
    "labThree()"
   ],
   "outputs": [],
   "metadata": {}
  },
  {
   "cell_type": "markdown",
   "source": [
    "## Optional: Checkout HackerRank and try a problem in Javascript"
   ],
   "metadata": {}
  }
 ],
 "metadata": {
  "orig_nbformat": 4,
  "language_info": {
   "name": "python",
   "version": "3.8.8",
   "mimetype": "text/x-python",
   "codemirror_mode": {
    "name": "ipython",
    "version": 3
   },
   "pygments_lexer": "ipython3",
   "nbconvert_exporter": "python",
   "file_extension": ".py"
  },
  "kernelspec": {
   "name": "python3",
   "display_name": "Python 3.7.9 64-bit"
  },
  "interpreter": {
   "hash": "948b6d56e7b300514b71fabe52f58b6d9d21e196acfb4d1a35d459e61192f5b6"
  }
 },
 "nbformat": 4,
 "nbformat_minor": 2
}